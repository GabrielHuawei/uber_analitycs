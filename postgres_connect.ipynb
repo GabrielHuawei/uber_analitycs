{
 "cells": [
  {
   "cell_type": "code",
   "execution_count": 1,
   "metadata": {
    "ExecuteTime": {
     "end_time": "2023-08-02T14:34:55.785382800Z",
     "start_time": "2023-08-02T14:34:55.771836600Z"
    }
   },
   "outputs": [],
   "source": [
    "import psycopg2\n",
    "# Huawei_1234!"
   ]
  },
  {
   "cell_type": "code",
   "execution_count": 2,
   "metadata": {
    "ExecuteTime": {
     "end_time": "2023-08-02T14:36:51.020859400Z",
     "start_time": "2023-08-02T14:36:50.572195800Z"
    }
   },
   "outputs": [
    {
     "name": "stdout",
     "output_type": "stream",
     "text": [
      "Conexão bem-sucedida!\n",
      "Versão do PostgreSQL: PostgreSQL 15.3 on x86_64-pc-linux-musl, compiled by gcc (Alpine 12.2.1_git20220924-r10) 12.2.1 20220924, 64-bit\n"
     ]
    }
   ],
   "source": [
    "try:\n",
    "    # Estabelece a conexão com o banco de dados\n",
    "    conn = psycopg2.connect(\n",
    "        dbname='data_warehouse',\n",
    "        user='postgres',\n",
    "        password='post123',\n",
    "        host='110.238.65.122',\n",
    "        port='5432'\n",
    "    )\n",
    "\n",
    "    # Cria um cursor para executar comandos SQL\n",
    "    cursor = conn.cursor()\n",
    "\n",
    "    # Executa um comando SQL de teste\n",
    "    cursor.execute('SELECT version()')\n",
    "\n",
    "    # Obtém o resultado da consulta\n",
    "    versao = cursor.fetchone()\n",
    "\n",
    "    # Imprime o resultado\n",
    "    print(\"Conexão bem-sucedida!\")\n",
    "    print(\"Versão do PostgreSQL:\", versao[0])\n",
    "\n",
    "    # Fecha o cursor e a conexão\n",
    "    cursor.close()\n",
    "    conn.close()\n",
    "\n",
    "except psycopg2.Error as e:\n",
    "    print(\"Erro ao conectar ou executar consulta:\", e)"
   ]
  },
  {
   "cell_type": "code",
   "execution_count": null,
   "metadata": {
    "collapsed": false
   },
   "outputs": [],
   "source": []
  }
 ],
 "metadata": {
  "kernelspec": {
   "display_name": "huawei-autotools-h-O394pJ-py3.11",
   "language": "python",
   "name": "python3"
  },
  "language_info": {
   "codemirror_mode": {
    "name": "ipython",
    "version": 3
   },
   "file_extension": ".py",
   "mimetype": "text/x-python",
   "name": "python",
   "nbconvert_exporter": "python",
   "pygments_lexer": "ipython3",
   "version": "3.11.3"
  },
  "orig_nbformat": 4
 },
 "nbformat": 4,
 "nbformat_minor": 2
}
